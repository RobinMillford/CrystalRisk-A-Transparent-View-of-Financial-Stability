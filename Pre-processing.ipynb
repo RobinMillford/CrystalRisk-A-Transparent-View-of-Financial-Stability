{
 "cells": [
  {
   "cell_type": "code",
   "execution_count": 1,
   "metadata": {},
   "outputs": [],
   "source": [
    "import pandas as pd\n",
    "import numpy as np"
   ]
  },
  {
   "cell_type": "code",
   "execution_count": 2,
   "metadata": {},
   "outputs": [
    {
     "data": {
      "text/html": [
       "<div>\n",
       "<style scoped>\n",
       "    .dataframe tbody tr th:only-of-type {\n",
       "        vertical-align: middle;\n",
       "    }\n",
       "\n",
       "    .dataframe tbody tr th {\n",
       "        vertical-align: top;\n",
       "    }\n",
       "\n",
       "    .dataframe thead th {\n",
       "        text-align: right;\n",
       "    }\n",
       "</style>\n",
       "<table border=\"1\" class=\"dataframe\">\n",
       "  <thead>\n",
       "    <tr style=\"text-align: right;\">\n",
       "      <th></th>\n",
       "      <th>ListingNumber</th>\n",
       "      <th>Term</th>\n",
       "      <th>LoanStatus</th>\n",
       "      <th>BorrowerRate</th>\n",
       "      <th>EstimatedEffectiveYield</th>\n",
       "      <th>EstimatedLoss</th>\n",
       "      <th>EstimatedReturn</th>\n",
       "      <th>ProsperRating (Alpha)</th>\n",
       "      <th>Occupation</th>\n",
       "      <th>EmploymentStatus</th>\n",
       "      <th>IsBorrowerHomeowner</th>\n",
       "      <th>LoanOriginalAmount</th>\n",
       "      <th>MonthlyLoanPayment</th>\n",
       "      <th>Investors</th>\n",
       "    </tr>\n",
       "  </thead>\n",
       "  <tbody>\n",
       "    <tr>\n",
       "      <th>0</th>\n",
       "      <td>193129</td>\n",
       "      <td>36</td>\n",
       "      <td>Completed</td>\n",
       "      <td>0.1580</td>\n",
       "      <td>NaN</td>\n",
       "      <td>NaN</td>\n",
       "      <td>NaN</td>\n",
       "      <td>NaN</td>\n",
       "      <td>Other</td>\n",
       "      <td>Self-employed</td>\n",
       "      <td>True</td>\n",
       "      <td>9425</td>\n",
       "      <td>330.43</td>\n",
       "      <td>258</td>\n",
       "    </tr>\n",
       "    <tr>\n",
       "      <th>1</th>\n",
       "      <td>1209647</td>\n",
       "      <td>36</td>\n",
       "      <td>Current</td>\n",
       "      <td>0.0920</td>\n",
       "      <td>0.07960</td>\n",
       "      <td>0.0249</td>\n",
       "      <td>0.05470</td>\n",
       "      <td>A</td>\n",
       "      <td>Professional</td>\n",
       "      <td>Employed</td>\n",
       "      <td>False</td>\n",
       "      <td>10000</td>\n",
       "      <td>318.93</td>\n",
       "      <td>1</td>\n",
       "    </tr>\n",
       "    <tr>\n",
       "      <th>2</th>\n",
       "      <td>81716</td>\n",
       "      <td>36</td>\n",
       "      <td>Completed</td>\n",
       "      <td>0.2750</td>\n",
       "      <td>NaN</td>\n",
       "      <td>NaN</td>\n",
       "      <td>NaN</td>\n",
       "      <td>NaN</td>\n",
       "      <td>Other</td>\n",
       "      <td>Not available</td>\n",
       "      <td>False</td>\n",
       "      <td>3001</td>\n",
       "      <td>123.32</td>\n",
       "      <td>41</td>\n",
       "    </tr>\n",
       "    <tr>\n",
       "      <th>3</th>\n",
       "      <td>658116</td>\n",
       "      <td>36</td>\n",
       "      <td>Current</td>\n",
       "      <td>0.0974</td>\n",
       "      <td>0.08490</td>\n",
       "      <td>0.0249</td>\n",
       "      <td>0.06000</td>\n",
       "      <td>A</td>\n",
       "      <td>Skilled Labor</td>\n",
       "      <td>Employed</td>\n",
       "      <td>True</td>\n",
       "      <td>10000</td>\n",
       "      <td>321.45</td>\n",
       "      <td>158</td>\n",
       "    </tr>\n",
       "    <tr>\n",
       "      <th>4</th>\n",
       "      <td>909464</td>\n",
       "      <td>36</td>\n",
       "      <td>Current</td>\n",
       "      <td>0.2085</td>\n",
       "      <td>0.18316</td>\n",
       "      <td>0.0925</td>\n",
       "      <td>0.09066</td>\n",
       "      <td>D</td>\n",
       "      <td>Executive</td>\n",
       "      <td>Employed</td>\n",
       "      <td>True</td>\n",
       "      <td>15000</td>\n",
       "      <td>563.97</td>\n",
       "      <td>20</td>\n",
       "    </tr>\n",
       "  </tbody>\n",
       "</table>\n",
       "</div>"
      ],
      "text/plain": [
       "   ListingNumber  Term LoanStatus  BorrowerRate  EstimatedEffectiveYield  \\\n",
       "0         193129    36  Completed        0.1580                      NaN   \n",
       "1        1209647    36    Current        0.0920                  0.07960   \n",
       "2          81716    36  Completed        0.2750                      NaN   \n",
       "3         658116    36    Current        0.0974                  0.08490   \n",
       "4         909464    36    Current        0.2085                  0.18316   \n",
       "\n",
       "   EstimatedLoss  EstimatedReturn ProsperRating (Alpha)     Occupation  \\\n",
       "0            NaN              NaN                   NaN          Other   \n",
       "1         0.0249          0.05470                     A   Professional   \n",
       "2            NaN              NaN                   NaN          Other   \n",
       "3         0.0249          0.06000                     A  Skilled Labor   \n",
       "4         0.0925          0.09066                     D      Executive   \n",
       "\n",
       "  EmploymentStatus  IsBorrowerHomeowner  LoanOriginalAmount  \\\n",
       "0    Self-employed                 True                9425   \n",
       "1         Employed                False               10000   \n",
       "2    Not available                False                3001   \n",
       "3         Employed                 True               10000   \n",
       "4         Employed                 True               15000   \n",
       "\n",
       "   MonthlyLoanPayment  Investors  \n",
       "0              330.43        258  \n",
       "1              318.93          1  \n",
       "2              123.32         41  \n",
       "3              321.45        158  \n",
       "4              563.97         20  "
      ]
     },
     "execution_count": 2,
     "metadata": {},
     "output_type": "execute_result"
    }
   ],
   "source": [
    "data = pd.read_csv(\"Loans.csv\")\n",
    "data.head()"
   ]
  },
  {
   "cell_type": "code",
   "execution_count": 6,
   "metadata": {},
   "outputs": [
    {
     "data": {
      "text/plain": [
       "(113066, 14)"
      ]
     },
     "execution_count": 6,
     "metadata": {},
     "output_type": "execute_result"
    }
   ],
   "source": [
    "data.shape"
   ]
  },
  {
   "cell_type": "code",
   "execution_count": 3,
   "metadata": {},
   "outputs": [
    {
     "data": {
      "text/plain": [
       "871"
      ]
     },
     "execution_count": 3,
     "metadata": {},
     "output_type": "execute_result"
    }
   ],
   "source": [
    "data.duplicated().sum()"
   ]
  },
  {
   "cell_type": "code",
   "execution_count": 4,
   "metadata": {},
   "outputs": [],
   "source": [
    "data.drop_duplicates(inplace=True)"
   ]
  },
  {
   "cell_type": "code",
   "execution_count": 5,
   "metadata": {},
   "outputs": [
    {
     "data": {
      "text/plain": [
       "ListingNumber                  0\n",
       "Term                           0\n",
       "LoanStatus                     0\n",
       "BorrowerRate                   0\n",
       "EstimatedEffectiveYield    29084\n",
       "EstimatedLoss              29084\n",
       "EstimatedReturn            29084\n",
       "ProsperRating (Alpha)      29084\n",
       "Occupation                  3529\n",
       "EmploymentStatus            2255\n",
       "IsBorrowerHomeowner            0\n",
       "LoanOriginalAmount             0\n",
       "MonthlyLoanPayment             0\n",
       "Investors                      0\n",
       "dtype: int64"
      ]
     },
     "execution_count": 5,
     "metadata": {},
     "output_type": "execute_result"
    }
   ],
   "source": [
    "data.isnull().sum()"
   ]
  },
  {
   "cell_type": "code",
   "execution_count": 7,
   "metadata": {},
   "outputs": [],
   "source": [
    "data.dropna(inplace=True)"
   ]
  },
  {
   "cell_type": "code",
   "execution_count": 8,
   "metadata": {},
   "outputs": [
    {
     "name": "stdout",
     "output_type": "stream",
     "text": [
      "<class 'pandas.core.frame.DataFrame'>\n",
      "Int64Index: 82708 entries, 1 to 113936\n",
      "Data columns (total 14 columns):\n",
      " #   Column                   Non-Null Count  Dtype  \n",
      "---  ------                   --------------  -----  \n",
      " 0   ListingNumber            82708 non-null  int64  \n",
      " 1   Term                     82708 non-null  int64  \n",
      " 2   LoanStatus               82708 non-null  object \n",
      " 3   BorrowerRate             82708 non-null  float64\n",
      " 4   EstimatedEffectiveYield  82708 non-null  float64\n",
      " 5   EstimatedLoss            82708 non-null  float64\n",
      " 6   EstimatedReturn          82708 non-null  float64\n",
      " 7   ProsperRating (Alpha)    82708 non-null  object \n",
      " 8   Occupation               82708 non-null  object \n",
      " 9   EmploymentStatus         82708 non-null  object \n",
      " 10  IsBorrowerHomeowner      82708 non-null  bool   \n",
      " 11  LoanOriginalAmount       82708 non-null  int64  \n",
      " 12  MonthlyLoanPayment       82708 non-null  float64\n",
      " 13  Investors                82708 non-null  int64  \n",
      "dtypes: bool(1), float64(5), int64(4), object(4)\n",
      "memory usage: 8.9+ MB\n"
     ]
    }
   ],
   "source": [
    "data.info()"
   ]
  },
  {
   "cell_type": "code",
   "execution_count": 9,
   "metadata": {},
   "outputs": [],
   "source": [
    "column = {\n",
    "    \"ListingNumber\": \"id\",\n",
    "    \"Term\": \"duration\",\n",
    "    \"LoanStatus\": \"status\",\n",
    "    \"BorrowerRate\": \"rate\",\n",
    "    \"EstimatedEffectiveYield\": \"yield\",\n",
    "    \"EstimatedLoss\": \"loss\",\n",
    "    \"EstimatedReturn\": \"return\",\n",
    "    \"ProsperRating (Alpha)\": \"prosper\",\n",
    "    \"Occupation\": \"occupation\",\n",
    "    \"EmploymentStatus\": \"employment\",\n",
    "    \"IsBorrowerHomeowner\": 'home_owner',\n",
    "    \"LoanOriginalAmount\": \"loan_amount\",\n",
    "    \"MonthlyLoanPayment\": \"payment\",\n",
    "    \"Investors\": \"investors\"\n",
    "}\n",
    "\n",
    "data.rename(columns=column, inplace=True)"
   ]
  },
  {
   "cell_type": "code",
   "execution_count": 10,
   "metadata": {},
   "outputs": [
    {
     "data": {
      "text/html": [
       "<div>\n",
       "<style scoped>\n",
       "    .dataframe tbody tr th:only-of-type {\n",
       "        vertical-align: middle;\n",
       "    }\n",
       "\n",
       "    .dataframe tbody tr th {\n",
       "        vertical-align: top;\n",
       "    }\n",
       "\n",
       "    .dataframe thead th {\n",
       "        text-align: right;\n",
       "    }\n",
       "</style>\n",
       "<table border=\"1\" class=\"dataframe\">\n",
       "  <thead>\n",
       "    <tr style=\"text-align: right;\">\n",
       "      <th></th>\n",
       "      <th>id</th>\n",
       "      <th>duration</th>\n",
       "      <th>status</th>\n",
       "      <th>rate</th>\n",
       "      <th>yield</th>\n",
       "      <th>loss</th>\n",
       "      <th>return</th>\n",
       "      <th>prosper</th>\n",
       "      <th>occupation</th>\n",
       "      <th>employment</th>\n",
       "      <th>home_owner</th>\n",
       "      <th>loan_amount</th>\n",
       "      <th>payment</th>\n",
       "      <th>investors</th>\n",
       "    </tr>\n",
       "  </thead>\n",
       "  <tbody>\n",
       "    <tr>\n",
       "      <th>1</th>\n",
       "      <td>1209647</td>\n",
       "      <td>36</td>\n",
       "      <td>Current</td>\n",
       "      <td>0.0920</td>\n",
       "      <td>0.07960</td>\n",
       "      <td>0.0249</td>\n",
       "      <td>0.05470</td>\n",
       "      <td>A</td>\n",
       "      <td>Professional</td>\n",
       "      <td>Employed</td>\n",
       "      <td>False</td>\n",
       "      <td>10000</td>\n",
       "      <td>318.93</td>\n",
       "      <td>1</td>\n",
       "    </tr>\n",
       "    <tr>\n",
       "      <th>3</th>\n",
       "      <td>658116</td>\n",
       "      <td>36</td>\n",
       "      <td>Current</td>\n",
       "      <td>0.0974</td>\n",
       "      <td>0.08490</td>\n",
       "      <td>0.0249</td>\n",
       "      <td>0.06000</td>\n",
       "      <td>A</td>\n",
       "      <td>Skilled Labor</td>\n",
       "      <td>Employed</td>\n",
       "      <td>True</td>\n",
       "      <td>10000</td>\n",
       "      <td>321.45</td>\n",
       "      <td>158</td>\n",
       "    </tr>\n",
       "    <tr>\n",
       "      <th>4</th>\n",
       "      <td>909464</td>\n",
       "      <td>36</td>\n",
       "      <td>Current</td>\n",
       "      <td>0.2085</td>\n",
       "      <td>0.18316</td>\n",
       "      <td>0.0925</td>\n",
       "      <td>0.09066</td>\n",
       "      <td>D</td>\n",
       "      <td>Executive</td>\n",
       "      <td>Employed</td>\n",
       "      <td>True</td>\n",
       "      <td>15000</td>\n",
       "      <td>563.97</td>\n",
       "      <td>20</td>\n",
       "    </tr>\n",
       "    <tr>\n",
       "      <th>5</th>\n",
       "      <td>1074836</td>\n",
       "      <td>60</td>\n",
       "      <td>Current</td>\n",
       "      <td>0.1314</td>\n",
       "      <td>0.11567</td>\n",
       "      <td>0.0449</td>\n",
       "      <td>0.07077</td>\n",
       "      <td>B</td>\n",
       "      <td>Professional</td>\n",
       "      <td>Employed</td>\n",
       "      <td>True</td>\n",
       "      <td>15000</td>\n",
       "      <td>342.37</td>\n",
       "      <td>1</td>\n",
       "    </tr>\n",
       "    <tr>\n",
       "      <th>6</th>\n",
       "      <td>750899</td>\n",
       "      <td>36</td>\n",
       "      <td>Current</td>\n",
       "      <td>0.2712</td>\n",
       "      <td>0.23820</td>\n",
       "      <td>0.1275</td>\n",
       "      <td>0.11070</td>\n",
       "      <td>E</td>\n",
       "      <td>Sales - Retail</td>\n",
       "      <td>Employed</td>\n",
       "      <td>False</td>\n",
       "      <td>3000</td>\n",
       "      <td>122.67</td>\n",
       "      <td>1</td>\n",
       "    </tr>\n",
       "  </tbody>\n",
       "</table>\n",
       "</div>"
      ],
      "text/plain": [
       "        id  duration   status    rate    yield    loss   return prosper  \\\n",
       "1  1209647        36  Current  0.0920  0.07960  0.0249  0.05470       A   \n",
       "3   658116        36  Current  0.0974  0.08490  0.0249  0.06000       A   \n",
       "4   909464        36  Current  0.2085  0.18316  0.0925  0.09066       D   \n",
       "5  1074836        60  Current  0.1314  0.11567  0.0449  0.07077       B   \n",
       "6   750899        36  Current  0.2712  0.23820  0.1275  0.11070       E   \n",
       "\n",
       "       occupation employment  home_owner  loan_amount  payment  investors  \n",
       "1    Professional   Employed       False        10000   318.93          1  \n",
       "3   Skilled Labor   Employed        True        10000   321.45        158  \n",
       "4       Executive   Employed        True        15000   563.97         20  \n",
       "5    Professional   Employed        True        15000   342.37          1  \n",
       "6  Sales - Retail   Employed       False         3000   122.67          1  "
      ]
     },
     "execution_count": 10,
     "metadata": {},
     "output_type": "execute_result"
    }
   ],
   "source": [
    "categories = ['status', 'prosper', 'occupation', 'employment']\n",
    "\n",
    "for column in categories:\n",
    "    data[column] = data[column].astype('category')\n",
    "\n",
    "data.head()"
   ]
  },
  {
   "cell_type": "code",
   "execution_count": 11,
   "metadata": {},
   "outputs": [],
   "source": [
    "data.to_csv('loans_data.csv', index=False)"
   ]
  }
 ],
 "metadata": {
  "kernelspec": {
   "display_name": "base",
   "language": "python",
   "name": "python3"
  },
  "language_info": {
   "codemirror_mode": {
    "name": "ipython",
    "version": 3
   },
   "file_extension": ".py",
   "mimetype": "text/x-python",
   "name": "python",
   "nbconvert_exporter": "python",
   "pygments_lexer": "ipython3",
   "version": "3.9.16"
  }
 },
 "nbformat": 4,
 "nbformat_minor": 2
}
